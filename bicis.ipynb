{
 "cells": [
  {
   "cell_type": "markdown",
   "id": "62ac785d",
   "metadata": {},
   "source": [
    "Ejercicio 2 – Bici-estaciones calientes \n",
    "\n",
    "Hacer un programa que analice el archivo de recorridos de Bicicletas de la Ciudad y devuelva las tres estaciones de origen más “calientes” (de las que salen más recorridos) en la mañana (de 6 a 11:59) \n",
    "https://data.buenosaires.gob.ar/dataset/bicicletas-publicas\n",
    "Para la lectura del archivo CSV puede usar este módulo de Python: https://docs.python.org/3/library/csv.html\n",
    "(el archivo es suficientemente grande como para que no se pueda suponer que entra en memoria) \n"
   ]
  },
  {
   "cell_type": "code",
   "execution_count": 10,
   "id": "4d7411f8",
   "metadata": {
    "scrolled": false
   },
   "outputs": [
    {
     "data": {
      "text/html": [
       "<div>\n",
       "<style scoped>\n",
       "    .dataframe tbody tr th:only-of-type {\n",
       "        vertical-align: middle;\n",
       "    }\n",
       "\n",
       "    .dataframe tbody tr th {\n",
       "        vertical-align: top;\n",
       "    }\n",
       "\n",
       "    .dataframe thead th {\n",
       "        text-align: right;\n",
       "    }\n",
       "</style>\n",
       "<table border=\"1\" class=\"dataframe\">\n",
       "  <thead>\n",
       "    <tr style=\"text-align: right;\">\n",
       "      <th></th>\n",
       "      <th>Viajes</th>\n",
       "    </tr>\n",
       "  </thead>\n",
       "  <tbody>\n",
       "    <tr>\n",
       "      <th>175BAEcobici</th>\n",
       "      <td>7852</td>\n",
       "    </tr>\n",
       "    <tr>\n",
       "      <th>14BAEcobici</th>\n",
       "      <td>7580</td>\n",
       "    </tr>\n",
       "    <tr>\n",
       "      <th>96BAEcobici</th>\n",
       "      <td>6535</td>\n",
       "    </tr>\n",
       "  </tbody>\n",
       "</table>\n",
       "</div>"
      ],
      "text/plain": [
       "              Viajes\n",
       "175BAEcobici    7852\n",
       "14BAEcobici     7580\n",
       "96BAEcobici     6535"
      ]
     },
     "execution_count": 10,
     "metadata": {},
     "output_type": "execute_result"
    }
   ],
   "source": [
    "import numpy as np\n",
    "import pandas as pd\n",
    "import csv\n",
    "from datetime import *\n",
    "\n",
    "archivo = \"trips_2021.csv\"\n",
    "inicio = time(6, 0, 0)\n",
    "final = time(12, 0, 0)\n",
    "dict_estaciones = {}\n",
    "# Leo el archivo.\n",
    "with open(archivo, encoding=\"UTF8\") as a:\n",
    "    a = csv.reader(a)\n",
    "    next(a)  # skipeo la 1er fila\n",
    "    for fila in a:\n",
    "        fecha_origen_recorrido = fila[2]\n",
    "        id_estacion_origen = str(fila[3])\n",
    "        # Transformo a objeto datetime las salidas para poder hacer operaciones booleanas\n",
    "        hora_origen_recorrido = datetime.strptime(\n",
    "            fecha_origen_recorrido[:19], \"%Y-%m-%d %H:%M:%S\").time()\n",
    "        # Verifico que caiga en el rango pedido [06:00:00,12:00:00).\n",
    "        if inicio <= hora_origen_recorrido < final:\n",
    "            if id_estacion_origen not in dict_estaciones.keys():\n",
    "                dict_estaciones[id_estacion_origen] = 1\n",
    "            else:\n",
    "                dict_estaciones[id_estacion_origen] += 1\n",
    "\n",
    "    array_estaciones = np.array(list(dict_estaciones.keys()))\n",
    "    array_viajes = np.array(list(dict_estaciones.values()))\n",
    "    df = pd.DataFrame(data=array_viajes,\n",
    "                          index=array_estaciones,columns=[\"Viajes\"])\n",
    "# Los registros se indexan por id de estacion, para verificar que no hay repetidos podemos hacer\n",
    "# print(df.index.is_unique)\n",
    "# Retorno las 3 con mas viajes:\n",
    "df.nlargest(3,\"Viajes\")"
   ]
  },
  {
   "cell_type": "code",
   "execution_count": null,
   "id": "003b5a4f",
   "metadata": {},
   "outputs": [],
   "source": []
  }
 ],
 "metadata": {
  "kernelspec": {
   "display_name": "Python 3 (ipykernel)",
   "language": "python",
   "name": "python3"
  },
  "language_info": {
   "codemirror_mode": {
    "name": "ipython",
    "version": 3
   },
   "file_extension": ".py",
   "mimetype": "text/x-python",
   "name": "python",
   "nbconvert_exporter": "python",
   "pygments_lexer": "ipython3",
   "version": "3.8.12"
  }
 },
 "nbformat": 4,
 "nbformat_minor": 5
}
